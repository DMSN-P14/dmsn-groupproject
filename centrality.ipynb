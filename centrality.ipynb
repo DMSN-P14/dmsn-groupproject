{
 "cells": [
  {
   "cell_type": "code",
   "execution_count": 1,
   "metadata": {},
   "outputs": [],
   "source": [
    "import networkx as nx\n",
    "import matplotlib.pyplot as plt\n",
    "import numpy as np\n",
    "%matplotlib inline\n",
    "\n",
    "import csv"
   ]
  },
  {
   "cell_type": "code",
   "execution_count": 2,
   "metadata": {},
   "outputs": [],
   "source": [
    "# Import Reddit Hyperlink network\n",
    "edges = np.loadtxt('data/edges.csv', delimiter=',', dtype=int, skiprows=1)\n",
    "G = nx.Graph()\n",
    "G.add_edges_from(edges)"
   ]
  },
  {
   "cell_type": "code",
   "execution_count": 3,
   "metadata": {},
   "outputs": [
    {
     "name": "stdout",
     "output_type": "stream",
     "text": [
      "35776\n",
      "124330\n"
     ]
    }
   ],
   "source": [
    "# Print number of nodes in graph\n",
    "print(len(G.nodes()))\n",
    "\n",
    "# Print number of edges in graph\n",
    "print(len(G.edges()))"
   ]
  },
  {
   "cell_type": "code",
   "execution_count": 4,
   "metadata": {},
   "outputs": [
    {
     "name": "stdout",
     "output_type": "stream",
     "text": [
      "[(59, 0.06529699510831585), (41, 0.051404612159329136), (122, 0.0446680642907058), (57, 0.029154437456324248), (225, 0.027561146051712088), (36, 0.026722571628232005), (166, 0.024626135569531794), (42, 0.02280922431865828), (55, 0.02188679245283019), (224, 0.020097833682739343)]\n",
      "[(35775, 2.795248078266946e-05), (35773, 2.795248078266946e-05), (35772, 2.795248078266946e-05), (35770, 2.795248078266946e-05), (35769, 2.795248078266946e-05), (35768, 2.795248078266946e-05), (35767, 2.795248078266946e-05), (35766, 2.795248078266946e-05), (35765, 2.795248078266946e-05), (35764, 2.795248078266946e-05)]\n",
      "CPU times: total: 109 ms\n",
      "Wall time: 136 ms\n"
     ]
    }
   ],
   "source": [
    "%%time\n",
    "# Find degree centrality of each node\n",
    "degrees = nx.degree_centrality(G)\n",
    "\n",
    "# Convert to list of tuples, sorted by key (node id)\n",
    "degrees_list = sorted(degrees.items(), key=lambda x: x[0])\n",
    "\n",
    "# Save to csv\n",
    "with open('data/task2/degree_centrality.csv', 'w', newline='') as f:\n",
    "    writer = csv.writer(f)\n",
    "    writer.writerow(['node', 'degree'])\n",
    "    writer.writerows(degrees_list)\n",
    "\n",
    "# Print 10 nodes with highest and lowest degree centralities\n",
    "sorted_degrees = sorted(degrees_list, key=lambda x: x[1], reverse=True)\n",
    "print(sorted_degrees[:10])\n",
    "print(sorted_degrees[-1:-11:-1])"
   ]
  },
  {
   "cell_type": "code",
   "execution_count": 5,
   "metadata": {},
   "outputs": [
    {
     "name": "stdout",
     "output_type": "stream",
     "text": [
      "[(59, 0.19980016082723698), (122, 0.17251286662845217), (41, 0.16843359927641854), (225, 0.1284885713009235), (36, 0.11509786622734267), (166, 0.11367799569072382), (42, 0.10991787698584359), (156, 0.1058157374989249), (55, 0.10344128462091134), (233, 0.1013885860167151)]\n",
      "[(35773, 1.5684687372311454e-20), (35772, 1.5684687372311454e-20), (35751, 1.5684687372311454e-20), (35750, 1.5684687372311454e-20), (35720, 1.5684687372311454e-20), (35719, 1.5684687372311454e-20), (35664, 1.5684687372311454e-20), (35663, 1.5684687372311454e-20), (35573, 1.5684687372311454e-20), (35572, 1.5684687372311454e-20)]\n",
      "CPU times: total: 1.17 s\n",
      "Wall time: 1.29 s\n"
     ]
    }
   ],
   "source": [
    "%%time\n",
    "# Find eigenvector centrality of each node\n",
    "eigenvectors = nx.eigenvector_centrality(G)\n",
    "\n",
    "# Convert to list of tuples, sorted by key (node id)\n",
    "eigenvectors_list = sorted(eigenvectors.items(), key=lambda x: x[0])\n",
    "\n",
    "# Save to csv\n",
    "with open('data/task2/eigenvector_centrality.csv', 'w', newline='') as f:\n",
    "    writer = csv.writer(f)\n",
    "    writer.writerow(['node', 'eigenvector'])\n",
    "    writer.writerows(eigenvectors_list)\n",
    "\n",
    "# Print 10 nodes with highest and lowest eigenvector centralities\n",
    "sorted_eigenvectors = sorted(eigenvectors_list, key=lambda x: x[1], reverse=True)\n",
    "print(sorted_eigenvectors[:10])\n",
    "print(sorted_eigenvectors[-1:-11:-1])"
   ]
  },
  {
   "cell_type": "code",
   "execution_count": 6,
   "metadata": {},
   "outputs": [
    {
     "name": "stdout",
     "output_type": "stream",
     "text": [
      "[(59, 0.426222639576908), (41, 0.41633578694267376), (122, 0.41617076668872666), (225, 0.3995045382731404), (166, 0.38703771040360846), (224, 0.38280446477592434), (36, 0.3806447413910621), (42, 0.3798400411260701), (134, 0.3797842258627051), (55, 0.37934257641069025)]\n",
      "[(35773, 2.795248078266946e-05), (35772, 2.795248078266946e-05), (35751, 2.795248078266946e-05), (35750, 2.795248078266946e-05), (35720, 2.795248078266946e-05), (35719, 2.795248078266946e-05), (35664, 2.795248078266946e-05), (35663, 2.795248078266946e-05), (35573, 2.795248078266946e-05), (35572, 2.795248078266946e-05)]\n",
      "CPU times: total: 35min 27s\n",
      "Wall time: 35min 50s\n"
     ]
    }
   ],
   "source": [
    "%%time\n",
    "# Find closeness centrality of each node\n",
    "closenesses = nx.closeness_centrality(G)\n",
    "\n",
    "# Convert to list of tuples, sorted by key (node id)\n",
    "closenesses_list = sorted(closenesses.items(), key=lambda x: x[0])\n",
    "\n",
    "# Save to csv\n",
    "with open('data/task2/closeness_centrality.csv', 'w', newline='') as f:\n",
    "    writer = csv.writer(f)\n",
    "    writer.writerow(['node', 'closeness'])\n",
    "    writer.writerows(closenesses_list)\n",
    "\n",
    "# Print 10 nodes with highest and lowest closeness centralities\n",
    "sorted_closenesses = sorted(closenesses_list, key=lambda x: x[1], reverse=True)\n",
    "print(sorted_closenesses[:10])\n",
    "print(sorted_closenesses[-1:-11:-1])"
   ]
  },
  {
   "cell_type": "code",
   "execution_count": 7,
   "metadata": {},
   "outputs": [
    {
     "name": "stdout",
     "output_type": "stream",
     "text": [
      "[(59, 0.11404735670207757), (41, 0.08346184105614243), (122, 0.07006046080416123), (57, 0.03947829573368361), (225, 0.034916176682116246), (166, 0.027187257029303344), (0, 0.025493520057664188), (224, 0.023911825838878423), (36, 0.022284293740961147), (556, 0.021842083951689285)]\n",
      "[(35775, 0.0), (35773, 0.0), (35772, 0.0), (35770, 0.0), (35769, 0.0), (35768, 0.0), (35767, 0.0), (35766, 0.0), (35765, 0.0), (35764, 0.0)]\n",
      "CPU times: total: 2h 3min 4s\n",
      "Wall time: 2h 4min 15s\n"
     ]
    }
   ],
   "source": [
    "%%time\n",
    "# Find betweenness centrality of each node\n",
    "betweennesses = nx.betweenness_centrality(G)\n",
    "\n",
    "# Convert to list of tuples, sorted by key (node id)\n",
    "betweennesses_list = sorted(betweennesses.items(), key=lambda x: x[0])\n",
    "\n",
    "# Save to csv\n",
    "with open('data/task2/betweenness_centrality.csv', 'w', newline='') as f:\n",
    "    writer = csv.writer(f)\n",
    "    writer.writerow(['node', 'betweenness'])\n",
    "    writer.writerows(betweennesses_list)\n",
    "\n",
    "# Print 10 nodes with highest and lowest betweenness centralities\n",
    "sorted_betweennesses = sorted(betweennesses_list, key=lambda x: x[1], reverse=True)\n",
    "print(sorted_betweennesses[:10])\n",
    "print(sorted_betweennesses[-1:-11:-1])"
   ]
  }
 ],
 "metadata": {
  "kernelspec": {
   "display_name": "DMSN",
   "language": "python",
   "name": "python3"
  },
  "language_info": {
   "codemirror_mode": {
    "name": "ipython",
    "version": 3
   },
   "file_extension": ".py",
   "mimetype": "text/x-python",
   "name": "python",
   "nbconvert_exporter": "python",
   "pygments_lexer": "ipython3",
   "version": "3.10.9"
  },
  "orig_nbformat": 4,
  "vscode": {
   "interpreter": {
    "hash": "1473d0af85b21d6127b20ead716b8efacd2edad6341be74c0fb3950ce92887e0"
   }
  }
 },
 "nbformat": 4,
 "nbformat_minor": 2
}
