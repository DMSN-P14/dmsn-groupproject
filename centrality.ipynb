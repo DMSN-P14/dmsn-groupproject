{
 "cells": [
  {
   "cell_type": "code",
   "execution_count": null,
   "metadata": {},
   "outputs": [],
   "source": [
    "import networkx as nx\n",
    "import matplotlib.pyplot as plt\n",
    "import numpy as np\n",
    "%matplotlib inline\n",
    "\n",
    "import csv"
   ]
  },
  {
   "cell_type": "code",
   "execution_count": null,
   "metadata": {},
   "outputs": [],
   "source": [
    "# Import Reddit Hyperlink network\n",
    "edges = np.loadtxt('data/edges.csv', delimiter=',', dtype=int, skiprows=1)\n",
    "G = nx.Graph()\n",
    "G.add_edges_from(edges)"
   ]
  },
  {
   "cell_type": "code",
   "execution_count": null,
   "metadata": {},
   "outputs": [],
   "source": [
    "# Print number of nodes in graph\n",
    "print(len(G.nodes()))\n",
    "\n",
    "# Print number of edges in graph\n",
    "print(len(G.edges()))"
   ]
  },
  {
   "cell_type": "code",
   "execution_count": null,
   "metadata": {},
   "outputs": [],
   "source": [
    "# Find degree centrality of each node\n",
    "degrees = nx.degree_centrality(G)\n",
    "\n",
    "# Convert to list of tuples, sorted by key (node id)\n",
    "degrees_list = sorted(degrees.items(), key=lambda x: x[0])\n",
    "\n",
    "# Save to csv\n",
    "with open('results/degree_centrality.csv', 'w', newline='') as f:\n",
    "    writer = csv.writer(f)\n",
    "    writer.writerow(['node', 'degree'])\n",
    "    writer.writerows(degrees_list)\n",
    "\n",
    "# Print 10 nodes with highest and lowest degree centralities\n",
    "sorted_degrees = sorted(degrees_list, key=lambda x: x[1], reverse=True)\n",
    "print(sorted_degrees[:10])\n",
    "print(sorted_degrees[-1:-11:-1])"
   ]
  },
  {
   "cell_type": "code",
   "execution_count": null,
   "metadata": {},
   "outputs": [],
   "source": [
    "# Find eigenvector centrality of each node\n",
    "eigenvectors = nx.eigenvector_centrality(G)\n",
    "\n",
    "# Convert to list of tuples, sorted by key (node id)\n",
    "eigenvectors_list = sorted(eigenvectors.items(), key=lambda x: x[0])\n",
    "\n",
    "# Save to csv\n",
    "with open('results/eigenvector_centrality.csv', 'w', newline='') as f:\n",
    "    writer = csv.writer(f)\n",
    "    writer.writerow(['node', 'eigenvector'])\n",
    "    writer.writerows(eigenvectors_list)\n",
    "\n",
    "# Print 10 nodes with highest and lowest eigenvector centralities\n",
    "sorted_eigenvectors = sorted(eigenvectors_list, key=lambda x: x[1], reverse=True)\n",
    "print(sorted_eigenvectors[:10])\n",
    "print(sorted_eigenvectors[-1:-11:-1])"
   ]
  },
  {
   "cell_type": "code",
   "execution_count": null,
   "metadata": {},
   "outputs": [],
   "source": [
    "\n",
    "# Find closeness centrality of each node\n",
    "closenesses = nx.closeness_centrality(G)\n",
    "\n",
    "# Convert to list of tuples, sorted by key (node id)\n",
    "closenesses_list = sorted(closenesses.items(), key=lambda x: x[0])\n",
    "\n",
    "# Save to csv\n",
    "with open('results/closeness_centrality.csv', 'w', newline='') as f:\n",
    "    writer = csv.writer(f)\n",
    "    writer.writerow(['node', 'closeness'])\n",
    "    writer.writerows(closenesses_list)\n",
    "\n",
    "# Print 10 nodes with highest and lowest closeness centralities\n",
    "sorted_closenesses = sorted(closenesses_list, key=lambda x: x[1], reverse=True)\n",
    "print(sorted_closenesses[:10])\n",
    "print(sorted_closenesses[-1:-11:-1])"
   ]
  },
  {
   "cell_type": "code",
   "execution_count": null,
   "metadata": {},
   "outputs": [],
   "source": [
    "# Find betweenness centrality of each node\n",
    "betweennesses = nx.betweenness_centrality(G)\n",
    "\n",
    "# Convert to list of tuples, sorted by key (node id)\n",
    "betweennesses_list = sorted(betweennesses.items(), key=lambda x: x[0])\n",
    "\n",
    "# Save to csv\n",
    "with open('results/betweenness_centrality.csv', 'w', newline='') as f:\n",
    "    writer = csv.writer(f)\n",
    "    writer.writerow(['node', 'betweenness'])\n",
    "    writer.writerows(betweennesses_list)\n",
    "\n",
    "# Print 10 nodes with highest and lowest betweenness centralities\n",
    "sorted_betweennesses = sorted(betweennesses_list, key=lambda x: x[1], reverse=True)\n",
    "print(sorted_betweennesses[:10])\n",
    "print(sorted_betweennesses[-1:-11:-1])"
   ]
  }
 ],
 "metadata": {
  "kernelspec": {
   "display_name": "DMSN",
   "language": "python",
   "name": "python3"
  },
  "language_info": {
   "codemirror_mode": {
    "name": "ipython",
    "version": 3
   },
   "file_extension": ".py",
   "mimetype": "text/x-python",
   "name": "python",
   "nbconvert_exporter": "python",
   "pygments_lexer": "ipython3",
   "version": "3.10.9"
  },
  "orig_nbformat": 4,
  "vscode": {
   "interpreter": {
    "hash": "1473d0af85b21d6127b20ead716b8efacd2edad6341be74c0fb3950ce92887e0"
   }
  }
 },
 "nbformat": 4,
 "nbformat_minor": 2
}
