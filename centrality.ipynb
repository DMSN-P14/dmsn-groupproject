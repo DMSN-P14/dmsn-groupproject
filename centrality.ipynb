{
 "cells": [
  {
   "cell_type": "code",
   "execution_count": 1,
   "metadata": {},
   "outputs": [],
   "source": [
    "import networkx as nx\n",
    "import matplotlib.pyplot as plt\n",
    "import numpy as np\n",
    "%matplotlib inline\n",
    "\n",
    "import csv"
   ]
  },
  {
   "cell_type": "code",
   "execution_count": 2,
   "metadata": {},
   "outputs": [],
   "source": [
    "# Import list of edges from file\n",
    "edges = np.loadtxt('data/edges.csv', delimiter=',', dtype=int, skiprows=1)\n",
    "\n",
    "# Create graph from list of edges\n",
    "G = nx.Graph()\n",
    "G.add_edges_from(edges)"
   ]
  },
  {
   "cell_type": "code",
   "execution_count": 3,
   "metadata": {},
   "outputs": [
    {
     "name": "stdout",
     "output_type": "stream",
     "text": [
      "35776\n",
      "124330\n"
     ]
    }
   ],
   "source": [
    "# Print number of nodes in graph\n",
    "print(len(G.nodes()))\n",
    "\n",
    "# Print number of edges in graph\n",
    "print(len(G.edges()))"
   ]
  },
  {
   "cell_type": "code",
   "execution_count": 4,
   "metadata": {},
   "outputs": [
    {
     "name": "stdout",
     "output_type": "stream",
     "text": [
      "[(59, 0.06529699510831585), (41, 0.051404612159329136), (122, 0.0446680642907058), (57, 0.029154437456324248), (225, 0.027561146051712088), (36, 0.026722571628232005), (166, 0.024626135569531794), (42, 0.02280922431865828), (55, 0.02188679245283019), (224, 0.020097833682739343)]\n",
      "CPU times: total: 172 ms\n",
      "Wall time: 218 ms\n"
     ]
    }
   ],
   "source": [
    "%%time\n",
    "# Find degree centrality of each node\n",
    "degrees = nx.degree_centrality(G)\n",
    "\n",
    "# Convert to list of tuples, sorted by key (node id)\n",
    "degrees_list = sorted(degrees.items(), key=lambda x: x[0])\n",
    "\n",
    "# Save to csv\n",
    "with open('data/degree_centrality.csv', 'w', newline='') as f:\n",
    "    writer = csv.writer(f)\n",
    "    writer.writerows(degrees_list)\n",
    "\n",
    "# Print 10 nodes with highest degree centrality and their degree centrality\n",
    "print(sorted(degrees_list, key=lambda x: x[1], reverse=True)[:10])"
   ]
  },
  {
   "cell_type": "code",
   "execution_count": 5,
   "metadata": {},
   "outputs": [
    {
     "name": "stdout",
     "output_type": "stream",
     "text": [
      "[(59, 0.19980016082723698), (122, 0.17251286662845217), (41, 0.16843359927641854), (225, 0.1284885713009235), (36, 0.11509786622734267), (166, 0.11367799569072382), (42, 0.10991787698584359), (156, 0.1058157374989249), (55, 0.10344128462091134), (233, 0.1013885860167151)]\n",
      "CPU times: total: 2.12 s\n",
      "Wall time: 2.22 s\n"
     ]
    }
   ],
   "source": [
    "%%time\n",
    "# Find eigenvector centrality of each node\n",
    "eigenvector = nx.eigenvector_centrality(G)\n",
    "\n",
    "# Convert to list of tuples, sorted by key (node id)\n",
    "eigenvector_list = sorted(eigenvector.items(), key=lambda x: x[0])\n",
    "\n",
    "# Save to csv\n",
    "with open('data/eigenvector_centrality.csv', 'w', newline='') as f:\n",
    "    writer = csv.writer(f)\n",
    "    writer.writerows(eigenvector_list)\n",
    "\n",
    "# Print 10 nodes with highest eigenvector centrality and their eigenvector centrality\n",
    "print(sorted(eigenvector_list, key=lambda x: x[1], reverse=True)[:10])"
   ]
  },
  {
   "cell_type": "code",
   "execution_count": 6,
   "metadata": {},
   "outputs": [
    {
     "name": "stdout",
     "output_type": "stream",
     "text": [
      "[(59, 0.426222639576908), (41, 0.41633578694267376), (122, 0.41617076668872666), (225, 0.3995045382731404), (166, 0.38703771040360846), (224, 0.38280446477592434), (36, 0.3806447413910621), (42, 0.3798400411260701), (134, 0.3797842258627051), (55, 0.37934257641069025)]\n",
      "CPU times: total: 48min 15s\n",
      "Wall time: 48min 35s\n"
     ]
    }
   ],
   "source": [
    "%%time\n",
    "# Find closeness centrality of each node\n",
    "closeness = nx.closeness_centrality(G)\n",
    "\n",
    "# Convert to list of tuples, sorted by key (node id)\n",
    "closeness_list = sorted(closeness.items(), key=lambda x: x[0])\n",
    "\n",
    "# Save to csv\n",
    "with open('data/closeness_centrality.csv', 'w', newline='') as f:\n",
    "    writer = csv.writer(f)\n",
    "    writer.writerows(closeness_list)\n",
    "\n",
    "# Print 10 nodes with highest closeness centrality and their closeness centrality\n",
    "print(sorted(closeness_list, key=lambda x: x[1], reverse=True)[:10])"
   ]
  },
  {
   "cell_type": "code",
   "execution_count": 7,
   "metadata": {},
   "outputs": [
    {
     "name": "stdout",
     "output_type": "stream",
     "text": [
      "[(59, 0.11404735670207757), (41, 0.08346184105614243), (122, 0.07006046080416123), (57, 0.03947829573368361), (225, 0.034916176682116246), (166, 0.027187257029303344), (0, 0.025493520057664188), (224, 0.023911825838878423), (36, 0.022284293740961147), (556, 0.021842083951689285)]\n",
      "CPU times: total: 2h 3min 4s\n",
      "Wall time: 2h 3min 39s\n"
     ]
    }
   ],
   "source": [
    "%%time\n",
    "# Find betweenness centrality of each node\n",
    "betweenness = nx.betweenness_centrality(G)\n",
    "\n",
    "# Convert to list of tuples, sorted by key (node id)\n",
    "betweenness_list = sorted(betweenness.items(), key=lambda x: x[0])\n",
    "\n",
    "# Save to csv\n",
    "with open('data/betweenness_centrality.csv', 'w', newline='') as f:\n",
    "    writer = csv.writer(f)\n",
    "    writer.writerows(betweenness_list)\n",
    "\n",
    "# Print 10 nodes with highest betweenness centrality and their betweenness centrality\n",
    "print(sorted(betweenness_list, key=lambda x: x[1], reverse=True)[:10])"
   ]
  }
 ],
 "metadata": {
  "kernelspec": {
   "display_name": "DMSN",
   "language": "python",
   "name": "python3"
  },
  "language_info": {
   "codemirror_mode": {
    "name": "ipython",
    "version": 3
   },
   "file_extension": ".py",
   "mimetype": "text/x-python",
   "name": "python",
   "nbconvert_exporter": "python",
   "pygments_lexer": "ipython3",
   "version": "3.10.9"
  },
  "orig_nbformat": 4,
  "vscode": {
   "interpreter": {
    "hash": "1473d0af85b21d6127b20ead716b8efacd2edad6341be74c0fb3950ce92887e0"
   }
  }
 },
 "nbformat": 4,
 "nbformat_minor": 2
}
