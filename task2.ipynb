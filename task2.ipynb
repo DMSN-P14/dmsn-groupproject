{
 "cells": [
  {
   "attachments": {},
   "cell_type": "markdown",
   "metadata": {},
   "source": [
    "## SI epidemic simulations: infection time vs distance"
   ]
  },
  {
   "cell_type": "code",
   "execution_count": 1,
   "metadata": {},
   "outputs": [],
   "source": [
    "import networkx as nx\n",
    "import EoN\n",
    "\n",
    "import csv\n",
    "import numpy as np\n",
    "import matplotlib.pyplot as plt\n",
    "%matplotlib inline\n",
    "from matplotlib.ticker import MaxNLocator\n",
    "\n",
    "from tqdm.notebook import tqdm"
   ]
  },
  {
   "cell_type": "code",
   "execution_count": 2,
   "metadata": {},
   "outputs": [],
   "source": [
    "TAU = 0.1\n",
    "TMAX = 5.0"
   ]
  },
  {
   "cell_type": "code",
   "execution_count": 3,
   "metadata": {},
   "outputs": [],
   "source": [
    "# Import Reddit Hyperlink network\n",
    "edges = np.loadtxt('data/edges.csv', delimiter=',', dtype=int, skiprows=1)\n",
    "G = nx.Graph()\n",
    "G.add_edges_from(edges)"
   ]
  },
  {
   "attachments": {},
   "cell_type": "markdown",
   "metadata": {},
   "source": [
    "### Functions"
   ]
  },
  {
   "cell_type": "code",
   "execution_count": 4,
   "metadata": {},
   "outputs": [],
   "source": [
    "def simulate_si(G: nx.Graph, tau: float, tmax: float, initial_infected: int, n_runs: int) -> dict[int, dict[str, float]]:\n",
    "    \"\"\"Simulates SI epidemic n_runs times on graph G with infection rate tau and initial infected node initial_infected. Returns a dictionary which contains, for each node, its distance from the initial infected node and its mean infection time.\"\"\"\n",
    "\n",
    "    # Compute shortest path lengths from initial_infected to all other nodes\n",
    "    # `distances` contains all nodes that are reachable from initial_infected\n",
    "    distances = nx.shortest_path_length(G, source=initial_infected)\n",
    "\n",
    "    # Initialise dictionary to store distance and infection times for each node\n",
    "    node_distance_time = {node: {'distance': distances[node], 'time': []} for node in distances}\n",
    "\n",
    "    # Run SI simulation n_runs times\n",
    "    for run in tqdm(range(n_runs)):\n",
    "        sim = EoN.fast_SIR(G, tau, gamma=0, tmax=tmax, initial_infecteds=initial_infected, return_full_data=True)\n",
    "\n",
    "        # Record infection time for each infected node\n",
    "        for node in distances:\n",
    "            if 'I' in (node_history := sim.node_history(node))[1]:\n",
    "                node_distance_time[node]['time'].append(node_history[0][node_history[1].index('I')])\n",
    "    \n",
    "    # Filter out nodes that were never infected\n",
    "    node_distance_time = {k: v for k, v in node_distance_time.items() if v['time']}\n",
    "\n",
    "    # Compute mean infection time for each node\n",
    "    for node in node_distance_time:\n",
    "        node_distance_time[node]['time'] = np.mean(node_distance_time[node]['time'])\n",
    "\n",
    "    # Print standard deviation of infection times\n",
    "    print(f'Standard deviation of infection times: {np.std([v[\"time\"] for v in node_distance_time.values()])}')\n",
    "\n",
    "    return node_distance_time"
   ]
  },
  {
   "cell_type": "code",
   "execution_count": 5,
   "metadata": {},
   "outputs": [],
   "source": [
    "def plot_distance_time(node_distance_time: dict[int, dict[str, float]], initial_infected_id: int, initial_infected_name: str, save=False) -> None:\n",
    "    \"\"\"Plots the mean infection time of each node as a function of its distance from the initial infected node.\"\"\"\n",
    "\n",
    "    # Create lists of distances and times\n",
    "    distances = [node_distance_time[node]['distance'] for node in node_distance_time]\n",
    "    times = [node_distance_time[node]['time'] for node in node_distance_time]\n",
    "\n",
    "    # Plot time as a function of distance\n",
    "    fig, ax = plt.subplots(figsize=(5, 4))\n",
    "    ax.scatter(distances, times, marker='x')\n",
    "    ax.set_title(f\"Initial infected node: {initial_infected_name} (id={initial_infected_id})\")\n",
    "    ax.set_xlabel('Distance from initial infected node')\n",
    "    ax.set_ylabel('Mean infection time')\n",
    "\n",
    "    # Add text box showing total infected nodes\n",
    "    total_infected = len(node_distance_time)\n",
    "    ax.text(0.04, 0.95, f\"Total infected: {total_infected}\",\n",
    "            transform=ax.transAxes, va='top', bbox=dict(boxstyle='round', facecolor='wheat', alpha=0.5))\n",
    "\n",
    "    # Jank - manually set axis limits to emulate shared axis\n",
    "    ax.set_xlim(-0.2, 5.2)\n",
    "    ax.set_ylim(0 - (TMAX * 1.2) * 0.025, (TMAX * 1.2) * 1.025)\n",
    "    \n",
    "    # Save figure\n",
    "    if save:\n",
    "        fig.savefig(f\"results/task2/{initial_infected_name.replace(' ', '_')}.png\", dpi=fig.dpi, bbox_inches='tight')\n",
    "\n",
    "    plt.show()"
   ]
  },
  {
   "cell_type": "code",
   "execution_count": 6,
   "metadata": {},
   "outputs": [],
   "source": [
    "# Dictionary to store final results\n",
    "centrality_node_distance_time = {}"
   ]
  },
  {
   "attachments": {},
   "cell_type": "markdown",
   "metadata": {},
   "source": [
    "## Eigenvector centrality"
   ]
  },
  {
   "cell_type": "code",
   "execution_count": 7,
   "metadata": {},
   "outputs": [],
   "source": [
    "# Import node eigenvector centralities\n",
    "with open('data/task2/eigenvector_centrality.csv', 'r') as f:\n",
    "    reader = csv.reader(f)\n",
    "    next(reader)\n",
    "    node_eigenvector = {int(row[0]): float(row[1]) for row in reader}"
   ]
  },
  {
   "cell_type": "code",
   "execution_count": 8,
   "metadata": {},
   "outputs": [
    {
     "name": "stdout",
     "output_type": "stream",
     "text": [
      "Max eigenvector node: (59, 0.19980016082723698)\n"
     ]
    },
    {
     "data": {
      "application/vnd.jupyter.widget-view+json": {
       "model_id": "391887022110409399eca95f90408117",
       "version_major": 2,
       "version_minor": 0
      },
      "text/plain": [
       "  0%|          | 0/10 [00:00<?, ?it/s]"
      ]
     },
     "metadata": {},
     "output_type": "display_data"
    },
    {
     "name": "stdout",
     "output_type": "stream",
     "text": [
      "Standard deviation of infection times: 0.8845010954273144\n",
      "Total infected nodes: 33399\n"
     ]
    }
   ],
   "source": [
    "# Find node with highest eigenvector centrality\n",
    "max_eigenvector_node = max(node_eigenvector, key=node_eigenvector.get)\n",
    "print(f\"Max eigenvector node: {(max_eigenvector_node, node_eigenvector[max_eigenvector_node])}\")\n",
    "\n",
    "# Simulate SI epidemic with max eigenvector node as initial infected node\n",
    "node_distance_time = simulate_si(G, tau=TAU, tmax=TMAX, initial_infected=max_eigenvector_node, n_runs=10)\n",
    "\n",
    "# Store results\n",
    "centrality_node_distance_time['max_eigenvector'] = node_distance_time\n",
    "centrality_node_distance_time['max_eigenvector']['initial_infected'] = max_eigenvector_node\n",
    "\n",
    "# Print total infected nodes\n",
    "print(f\"Total infected nodes: {len(node_distance_time)}\")\n",
    "\n",
    "# Plot mean infection time as a function of distance from initial infected node\n",
    "# plot_distance_time(node_distance_time, max_eigenvector_node, 'max eigenvector', save=False)"
   ]
  },
  {
   "cell_type": "code",
   "execution_count": 9,
   "metadata": {},
   "outputs": [
    {
     "name": "stdout",
     "output_type": "stream",
     "text": [
      "Min eigenvector node: (858, 1.5684687372311454e-20)\n"
     ]
    },
    {
     "data": {
      "application/vnd.jupyter.widget-view+json": {
       "model_id": "8e4d5dc3169845b1a7a74c17e35911b8",
       "version_major": 2,
       "version_minor": 0
      },
      "text/plain": [
       "  0%|          | 0/10 [00:00<?, ?it/s]"
      ]
     },
     "metadata": {},
     "output_type": "display_data"
    },
    {
     "name": "stdout",
     "output_type": "stream",
     "text": [
      "Standard deviation of infection times: 0.8173730337655132\n",
      "Total infected nodes: 3\n"
     ]
    }
   ],
   "source": [
    "# Find node with lowest eigenvector centrality\n",
    "min_eigenvector_node = min(node_eigenvector, key=node_eigenvector.get)\n",
    "print(f\"Min eigenvector node: {(min_eigenvector_node, node_eigenvector[min_eigenvector_node])}\")\n",
    "\n",
    "# Simulate SI epidemic with min eigenvector node as initial infected node\n",
    "node_distance_time = simulate_si(G, tau=TAU, tmax=TMAX, initial_infected=min_eigenvector_node, n_runs=10)\n",
    "\n",
    "# Store results\n",
    "centrality_node_distance_time['min_eigenvector'] = node_distance_time\n",
    "centrality_node_distance_time['min_eigenvector']['initial_infected'] = min_eigenvector_node\n",
    "\n",
    "# Print total infected nodes\n",
    "print(f\"Total infected nodes: {len(node_distance_time)}\")\n",
    "\n",
    "# Plot mean infection time as a function of distance from initial infected node\n",
    "# plot_distance_time(node_distance_time, min_eigenvector_node, 'min eigenvector', save=False)"
   ]
  },
  {
   "attachments": {},
   "cell_type": "markdown",
   "metadata": {},
   "source": [
    "## Betweenness centrality"
   ]
  },
  {
   "cell_type": "code",
   "execution_count": 10,
   "metadata": {},
   "outputs": [],
   "source": [
    "# Import node betweenness centralities\n",
    "with open('data/task2/betweenness_centrality.csv', 'r') as f:\n",
    "    reader = csv.reader(f)\n",
    "    next(reader)\n",
    "    node_betweenness = {int(row[0]): float(row[1]) for row in reader}"
   ]
  },
  {
   "cell_type": "code",
   "execution_count": 11,
   "metadata": {},
   "outputs": [
    {
     "name": "stdout",
     "output_type": "stream",
     "text": [
      "Max betweenness node: (59, 0.11404735670207757)\n"
     ]
    },
    {
     "data": {
      "application/vnd.jupyter.widget-view+json": {
       "model_id": "4b523c6c0e484e03b5d246f81ba4ca48",
       "version_major": 2,
       "version_minor": 0
      },
      "text/plain": [
       "  0%|          | 0/10 [00:00<?, ?it/s]"
      ]
     },
     "metadata": {},
     "output_type": "display_data"
    },
    {
     "name": "stdout",
     "output_type": "stream",
     "text": [
      "Standard deviation of infection times: 0.876995178018848\n",
      "Total infected nodes: 33316\n"
     ]
    }
   ],
   "source": [
    "# Find node with highest betweenness centrality\n",
    "max_betweenness_node = max(node_betweenness, key=node_betweenness.get)\n",
    "print(f\"Max betweenness node: {(max_betweenness_node, node_betweenness[max_betweenness_node])}\")\n",
    "\n",
    "# Simulate SI epidemic with max betweenness node as initial infected node\n",
    "node_distance_time = simulate_si(G, tau=TAU, tmax=TMAX, initial_infected=max_betweenness_node, n_runs=10)\n",
    "\n",
    "# Store results\n",
    "centrality_node_distance_time['max_betweenness'] = node_distance_time\n",
    "centrality_node_distance_time['max_betweenness']['initial_infected'] = max_betweenness_node\n",
    "\n",
    "# Print total infected nodes\n",
    "print(f\"Total infected nodes: {len(node_distance_time)}\")\n",
    "\n",
    "# Plot mean infection time as a function of distance from initial infected node\n",
    "# plot_distance_time(node_distance_time, max_betweenness_node, 'max betweenness', save=False)"
   ]
  },
  {
   "cell_type": "code",
   "execution_count": 12,
   "metadata": {},
   "outputs": [
    {
     "name": "stdout",
     "output_type": "stream",
     "text": [
      "Min betweenness node: (12, 0.0)\n"
     ]
    },
    {
     "data": {
      "application/vnd.jupyter.widget-view+json": {
       "model_id": "6d488d75b51a4623a773d9a457f84800",
       "version_major": 2,
       "version_minor": 0
      },
      "text/plain": [
       "  0%|          | 0/10 [00:00<?, ?it/s]"
      ]
     },
     "metadata": {},
     "output_type": "display_data"
    },
    {
     "name": "stdout",
     "output_type": "stream",
     "text": [
      "Standard deviation of infection times: 0.7868364499935604\n",
      "Total infected nodes: 28368\n"
     ]
    }
   ],
   "source": [
    "# Find node with lowest betweenness centrality\n",
    "min_betweenness_node = min(node_betweenness, key=node_betweenness.get)\n",
    "print(f\"Min betweenness node: {(min_betweenness_node, node_betweenness[min_betweenness_node])}\")\n",
    "\n",
    "# Simulate SI epidemic with min betweenness node as initial infected node\n",
    "node_distance_time = simulate_si(G, tau=TAU, tmax=TMAX, initial_infected=min_betweenness_node, n_runs=10)\n",
    "\n",
    "# Store results\n",
    "centrality_node_distance_time['min_betweenness'] = node_distance_time\n",
    "centrality_node_distance_time['min_betweenness']['initial_infected'] = min_betweenness_node\n",
    "\n",
    "# Print total infected nodes\n",
    "print(f\"Total infected nodes: {len(node_distance_time)}\")\n",
    "\n",
    "# Plot mean infection time as a function of distance from initial infected node\n",
    "# plot_distance_time(node_distance_time, min_betweenness_node, 'min betweenness', save=False)"
   ]
  },
  {
   "attachments": {},
   "cell_type": "markdown",
   "metadata": {},
   "source": [
    "## Closeness?"
   ]
  },
  {
   "cell_type": "code",
   "execution_count": 13,
   "metadata": {},
   "outputs": [],
   "source": [
    "# # Import node closeness centralities\n",
    "# with open('data/task2/closeness_centrality.csv', 'r') as f:\n",
    "#     reader = csv.reader(f)\n",
    "#     next(reader)\n",
    "#     node_closeness = {int(row[0]): float(row[1]) for row in reader}\n",
    "\n",
    "# # Find node with highest closeness centrality\n",
    "# max_closeness_node = max(node_closeness, key=node_closeness.get)\n",
    "# print(f\"Max closeness node: {(max_closeness_node, node_closeness[max_closeness_node])}\")\n",
    "\n",
    "# # Simulate SI epidemic with max closeness node as initial infected node\n",
    "# node_distance_time = simulate_si(G, tau=TAU, tmax=TMAX, initial_infected=max_closeness_node, n_runs=10)\n",
    "\n",
    "# # Store results\n",
    "# centrality_node_distance_time['max_closeness'] = node_distance_time\n",
    "# centrality_node_distance_time['max_closeness']['initial_infected'] = max_closeness_node\n",
    "\n",
    "# # Print total infected nodes\n",
    "# print(f\"Total infected nodes: {len(node_distance_time)}\")\n",
    "\n",
    "# # Plot mean infection time as a function of distance from initial infected node\n",
    "# # plot_distance_time(node_distance_time, max_closeness_node, 'max closeness', save=False)\n",
    "\n",
    "# # Find node with lowest closeness centrality\n",
    "# min_closeness_node = min(node_closeness, key=node_closeness.get)\n",
    "# print(f\"Min closeness node: {(min_closeness_node, node_closeness[min_closeness_node])}\")\n",
    "\n",
    "# # Simulate SI epidemic with min closeness node as initial infected node\n",
    "# node_distance_time = simulate_si(G, tau=TAU, tmax=TMAX, initial_infected=min_closeness_node, n_runs=10)\n",
    "\n",
    "# # Store results\n",
    "# centrality_node_distance_time['min_closeness'] = node_distance_time\n",
    "# centrality_node_distance_time['min_closeness'].update({'initial_infected': min_closeness_node})\n",
    "\n",
    "# # Print total infected nodes\n",
    "# print(f\"Total infected nodes: {len(node_distance_time)}\")\n",
    "\n",
    "# # Plot mean infection time as a function of distance from initial infected node\n",
    "# # plot_distance_time(node_distance_time, min_closeness_node, 'min closeness', save=False)"
   ]
  },
  {
   "attachments": {},
   "cell_type": "markdown",
   "metadata": {},
   "source": [
    "### Combined results"
   ]
  },
  {
   "cell_type": "code",
   "execution_count": 14,
   "metadata": {},
   "outputs": [
    {
     "data": {
      "image/png": "[encoded data removed]",
      "text/plain": [
       "<Figure size 600x600 with 4 Axes>"
      ]
     },
     "metadata": {},
     "output_type": "display_data"
    }
   ],
   "source": [
    "# Flatten final results\n",
    "plot_data = {centrality: {'distance': [v['distance'] for v in node_distance_time.values() if type(v) == dict],\n",
    "                          'time': [v['time'] for v in node_distance_time.values() if type(v) == dict],\n",
    "                          'initial_infected': node_distance_time['initial_infected']}\n",
    "             for centrality, node_distance_time in centrality_node_distance_time.items()}\n",
    "\n",
    "# Combine results into a single figure\n",
    "fig, axs = plt.subplots(len(plot_data) // 2, 2, figsize=(6, 2 + len(plot_data)), sharex=True, sharey=True)\n",
    "fig.suptitle(f\"SI epidemic: node infection time vs distance from initial infected\\ntau={TAU}, tmax={TMAX}\")\n",
    "\n",
    "# Plot results\n",
    "for i, (centrality, data) in enumerate(plot_data.items()):\n",
    "    ax = axs[i % 2, i // 2]\n",
    "    ax.set_title(f\"Initial: {centrality.replace('_', ' ')} (id={data['initial_infected']})\")\n",
    "    ax.scatter(data['distance'], data['time'], marker='x')\n",
    "    ax.set_xlabel('Distance from initial infected node')\n",
    "    ax.set_ylabel('Mean infection time')\n",
    "\n",
    "    ax.xaxis.set_tick_params(labelbottom=True)\n",
    "    ax.yaxis.set_tick_params(labelleft=True)\n",
    "    ax.xaxis.set_major_locator(MaxNLocator(integer=True))\n",
    "    ax.yaxis.set_major_locator(MaxNLocator(integer=True))\n",
    "\n",
    "    ax.text(0.04, 0.95, f\"Total: {len(data['distance'])}\",\n",
    "            transform=ax.transAxes, va='top', bbox=dict(boxstyle='round', facecolor='wheat', alpha=0.5))\n",
    "\n",
    "ax.set_ylim(0 - 0.1 * TMAX, TMAX + 0.3 * TMAX)\n",
    "ax.set_yticks(np.arange(0, TMAX + 1, 5))\n",
    "plt.tight_layout()\n",
    "\n",
    "# Save figure\n",
    "fig.savefig(f\"results/task2/combined_tau{str(TAU).replace('.', '_')}_tmax{str(TMAX).replace('.', '_')}.png\", dpi=fig.dpi, bbox_inches='tight')\n",
    "\n",
    "plt.show()\n"
   ]
  },
  {
   "cell_type": "code",
   "execution_count": 15,
   "metadata": {},
   "outputs": [
    {
     "name": "stdout",
     "output_type": "stream",
     "text": [
      "Max degree node: (59, 0.06529699510831585)\n",
      "Min degree node: (46, 2.795248078266946e-05)\n",
      "Max betweenness node: (59, 0.11404735670207757)\n",
      "Min betweenness node: (12, 0.0)\n",
      "Max closeness node: (59, 0.426222639576908)\n",
      "Min closeness node: (858, 2.795248078266946e-05)\n",
      "Max eigenvector node: (59, 0.19980016082723698)\n",
      "Min eigenvector node: (858, 1.5684687372311454e-20)\n"
     ]
    }
   ],
   "source": [
    "# Import node degree centralities\n",
    "with open('data/task2/degree_centrality.csv', 'r') as f:\n",
    "    reader = csv.reader(f)\n",
    "    next(reader)\n",
    "    node_degree = {int(row[0]): float(row[1]) for row in reader}\n",
    "    \n",
    "# Find node with highest degree centrality\n",
    "max_degree_node = max(node_degree, key=node_degree.get)\n",
    "print(f\"Max degree node: {(max_degree_node, node_degree[max_degree_node])}\")\n",
    "\n",
    "# Find node with lowest degree centrality\n",
    "min_degree_node = min(node_degree, key=node_degree.get)\n",
    "print(f\"Min degree node: {(min_degree_node, node_degree[min_degree_node])}\")\n",
    "\n",
    "# Find node with highest betweenness centrality\n",
    "max_betweenness_node = max(node_betweenness, key=node_betweenness.get)\n",
    "print(f\"Max betweenness node: {(max_betweenness_node, node_betweenness[max_betweenness_node])}\")\n",
    "\n",
    "# Find node with lowest betweenness centrality\n",
    "min_betweenness_node = min(node_betweenness, key=node_betweenness.get)\n",
    "print(f\"Min betweenness node: {(min_betweenness_node, node_betweenness[min_betweenness_node])}\")\n",
    "\n",
    "# Import node closeness centralities\n",
    "with open('data/task2/closeness_centrality.csv', 'r') as f:\n",
    "    reader = csv.reader(f)\n",
    "    next(reader)\n",
    "    node_closeness = {int(row[0]): float(row[1]) for row in reader}\n",
    "\n",
    "# Find node with highest closeness centrality\n",
    "max_closeness_node = max(node_closeness, key=node_closeness.get)\n",
    "print(f\"Max closeness node: {(max_closeness_node, node_closeness[max_closeness_node])}\")\n",
    "\n",
    "# Find node with lowest closeness centrality\n",
    "min_closeness_node = min(node_closeness, key=node_closeness.get)\n",
    "print(f\"Min closeness node: {(min_closeness_node, node_closeness[min_closeness_node])}\")\n",
    "\n",
    "# Find node with highest eigenvector centrality\n",
    "max_eigenvector_node = max(node_eigenvector, key=node_eigenvector.get)\n",
    "print(f\"Max eigenvector node: {(max_eigenvector_node, node_eigenvector[max_eigenvector_node])}\")\n",
    "\n",
    "# Find node with lowest eigenvector centrality\n",
    "min_eigenvector_node = min(node_eigenvector, key=node_eigenvector.get)\n",
    "print(f\"Min eigenvector node: {(min_eigenvector_node, node_eigenvector[min_eigenvector_node])}\")"
   ]
  },
  {
   "cell_type": "code",
   "execution_count": 16,
   "metadata": {},
   "outputs": [
    {
     "name": "stdout",
     "output_type": "stream",
     "text": [
      "Degree centrality: 8.385744234800838e-05\n",
      "Betweenness centrality: 0.0\n",
      "Closeness centrality: 0.2693748951964055\n",
      "Eigenvector centrality: 0.0008471706371360171\n"
     ]
    }
   ],
   "source": [
    "# Print degree, betweenness, closeness and eigenvector centralities of node 12\n",
    "print(f\"Degree centrality: {node_degree[12]}\")\n",
    "print(f\"Betweenness centrality: {node_betweenness[12]}\")\n",
    "print(f\"Closeness centrality: {node_closeness[12]}\")\n",
    "print(f\"Eigenvector centrality: {node_eigenvector[12]}\")"
   ]
  },
  {
   "cell_type": "code",
   "execution_count": 19,
   "metadata": {},
   "outputs": [
    {
     "name": "stdout",
     "output_type": "stream",
     "text": [
      "Rank of node 12 in eigenvector centrality: 7811\n",
      "Proportion of nodes with higher eigenvector centrality: 0.21830277280858676\n",
      "Rank of node 12 in closeness centrality: 8623\n",
      "Proportion of nodes with higher closeness centrality: 0.24099955277280857\n",
      "Rank of node 12 in degree centrality: 8987\n",
      "Proportion of nodes with higher degree centrality: 0.2511739713774597\n"
     ]
    }
   ],
   "source": [
    "# Rank of node 12 in eigenvector centrality\n",
    "print(f\"Rank of node 12 in eigenvector centrality: {sorted(node_eigenvector.values(), reverse=True).index(node_eigenvector[12]) + 1}\")\n",
    "\n",
    "# As a proportion of the total number of nodes\n",
    "print(f\"Proportion of nodes with higher eigenvector centrality: {sorted(node_eigenvector.values(), reverse=True).index(node_eigenvector[12]) / len(node_eigenvector)}\")\n",
    "\n",
    "# Rank of node 12 in closeness centrality\n",
    "print(f\"Rank of node 12 in closeness centrality: {sorted(node_closeness.values(), reverse=True).index(node_closeness[12]) + 1}\")\n",
    "\n",
    "# As a proportion of the total number of nodes\n",
    "print(f\"Proportion of nodes with higher closeness centrality: {sorted(node_closeness.values(), reverse=True).index(node_closeness[12]) / len(node_closeness)}\")\n",
    "\n",
    "# Rank of node 12 in degree centrality\n",
    "print(f\"Rank of node 12 in degree centrality: {sorted(node_degree.values(), reverse=True).index(node_degree[12]) + 1}\")\n",
    "\n",
    "# As a proportion of the total number of nodes\n",
    "print(f\"Proportion of nodes with higher degree centrality: {sorted(node_degree.values(), reverse=True).index(node_degree[12]) / len(node_degree)}\")"
   ]
  }
 ],
 "metadata": {
  "kernelspec": {
   "display_name": "DMSN",
   "language": "python",
   "name": "python3"
  },
  "language_info": {
   "codemirror_mode": {
    "name": "ipython",
    "version": 3
   },
   "file_extension": ".py",
   "mimetype": "text/x-python",
   "name": "python",
   "nbconvert_exporter": "python",
   "pygments_lexer": "ipython3",
   "version": "3.10.9"
  },
  "orig_nbformat": 4,
  "vscode": {
   "interpreter": {
    "hash": "1473d0af85b21d6127b20ead716b8efacd2edad6341be74c0fb3950ce92887e0"
   }
  }
 },
 "nbformat": 4,
 "nbformat_minor": 2
}
