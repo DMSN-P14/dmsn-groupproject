{
 "cells": [
  {
   "cell_type": "code",
   "execution_count": 1,
   "metadata": {},
   "outputs": [],
   "source": [
    "import pandas as pd"
   ]
  },
  {
   "cell_type": "code",
   "execution_count": 2,
   "metadata": {},
   "outputs": [
    {
     "data": {
      "text/html": [
       "<div>\n",
       "<style scoped>\n",
       "    .dataframe tbody tr th:only-of-type {\n",
       "        vertical-align: middle;\n",
       "    }\n",
       "\n",
       "    .dataframe tbody tr th {\n",
       "        vertical-align: top;\n",
       "    }\n",
       "\n",
       "    .dataframe thead th {\n",
       "        text-align: right;\n",
       "    }\n",
       "</style>\n",
       "<table border=\"1\" class=\"dataframe\">\n",
       "  <thead>\n",
       "    <tr style=\"text-align: right;\">\n",
       "      <th></th>\n",
       "      <th>label</th>\n",
       "      <th>modularity_class</th>\n",
       "      <th>indegree</th>\n",
       "      <th>outdegree</th>\n",
       "      <th>degree</th>\n",
       "      <th>weighted indegree</th>\n",
       "      <th>weighted outdegree</th>\n",
       "      <th>weighted degree</th>\n",
       "      <th>eccentricity</th>\n",
       "      <th>closnesscentrality</th>\n",
       "      <th>harmonicclosnesscentrality</th>\n",
       "      <th>betweenesscentrality</th>\n",
       "      <th>clustering</th>\n",
       "    </tr>\n",
       "    <tr>\n",
       "      <th>id</th>\n",
       "      <th></th>\n",
       "      <th></th>\n",
       "      <th></th>\n",
       "      <th></th>\n",
       "      <th></th>\n",
       "      <th></th>\n",
       "      <th></th>\n",
       "      <th></th>\n",
       "      <th></th>\n",
       "      <th></th>\n",
       "      <th></th>\n",
       "      <th></th>\n",
       "      <th></th>\n",
       "    </tr>\n",
       "  </thead>\n",
       "  <tbody>\n",
       "    <tr>\n",
       "      <th>0</th>\n",
       "      <td>NaN</td>\n",
       "      <td>11</td>\n",
       "      <td>577</td>\n",
       "      <td>256</td>\n",
       "      <td>833</td>\n",
       "      <td>577</td>\n",
       "      <td>256</td>\n",
       "      <td>833</td>\n",
       "      <td>7</td>\n",
       "      <td>0.335777</td>\n",
       "      <td>0.362346</td>\n",
       "      <td>1.549175e+07</td>\n",
       "      <td>0.014676</td>\n",
       "    </tr>\n",
       "    <tr>\n",
       "      <th>1</th>\n",
       "      <td>NaN</td>\n",
       "      <td>11</td>\n",
       "      <td>4</td>\n",
       "      <td>11</td>\n",
       "      <td>15</td>\n",
       "      <td>4</td>\n",
       "      <td>11</td>\n",
       "      <td>15</td>\n",
       "      <td>8</td>\n",
       "      <td>0.252292</td>\n",
       "      <td>0.262687</td>\n",
       "      <td>5.212718e+04</td>\n",
       "      <td>0.190909</td>\n",
       "    </tr>\n",
       "    <tr>\n",
       "      <th>379</th>\n",
       "      <td>NaN</td>\n",
       "      <td>11</td>\n",
       "      <td>10</td>\n",
       "      <td>5</td>\n",
       "      <td>15</td>\n",
       "      <td>10</td>\n",
       "      <td>5</td>\n",
       "      <td>15</td>\n",
       "      <td>8</td>\n",
       "      <td>0.259680</td>\n",
       "      <td>0.271019</td>\n",
       "      <td>4.839465e+04</td>\n",
       "      <td>0.166667</td>\n",
       "    </tr>\n",
       "    <tr>\n",
       "      <th>41</th>\n",
       "      <td>NaN</td>\n",
       "      <td>2</td>\n",
       "      <td>1646</td>\n",
       "      <td>384</td>\n",
       "      <td>2030</td>\n",
       "      <td>1646</td>\n",
       "      <td>384</td>\n",
       "      <td>2030</td>\n",
       "      <td>7</td>\n",
       "      <td>0.354032</td>\n",
       "      <td>0.384665</td>\n",
       "      <td>5.649754e+07</td>\n",
       "      <td>0.008165</td>\n",
       "    </tr>\n",
       "    <tr>\n",
       "      <th>810</th>\n",
       "      <td>NaN</td>\n",
       "      <td>16</td>\n",
       "      <td>165</td>\n",
       "      <td>0</td>\n",
       "      <td>165</td>\n",
       "      <td>165</td>\n",
       "      <td>0</td>\n",
       "      <td>165</td>\n",
       "      <td>0</td>\n",
       "      <td>0.000000</td>\n",
       "      <td>0.000000</td>\n",
       "      <td>0.000000e+00</td>\n",
       "      <td>0.031966</td>\n",
       "    </tr>\n",
       "  </tbody>\n",
       "</table>\n",
       "</div>"
      ],
      "text/plain": [
       "     label  modularity_class  indegree  outdegree  degree  weighted indegree  \\\n",
       "id                                                                             \n",
       "0      NaN                11       577        256     833                577   \n",
       "1      NaN                11         4         11      15                  4   \n",
       "379    NaN                11        10          5      15                 10   \n",
       "41     NaN                 2      1646        384    2030               1646   \n",
       "810    NaN                16       165          0     165                165   \n",
       "\n",
       "     weighted outdegree  weighted degree  eccentricity  closnesscentrality  \\\n",
       "id                                                                           \n",
       "0                   256              833             7            0.335777   \n",
       "1                    11               15             8            0.252292   \n",
       "379                   5               15             8            0.259680   \n",
       "41                  384             2030             7            0.354032   \n",
       "810                   0              165             0            0.000000   \n",
       "\n",
       "     harmonicclosnesscentrality  betweenesscentrality  clustering  \n",
       "id                                                                 \n",
       "0                      0.362346          1.549175e+07    0.014676  \n",
       "1                      0.262687          5.212718e+04    0.190909  \n",
       "379                    0.271019          4.839465e+04    0.166667  \n",
       "41                     0.384665          5.649754e+07    0.008165  \n",
       "810                    0.000000          0.000000e+00    0.031966  "
      ]
     },
     "execution_count": 2,
     "metadata": {},
     "output_type": "execute_result"
    }
   ],
   "source": [
    "# Import Reddit Hyperlink network nodes data\n",
    "df = pd.read_csv('data/task1/nodes_res1.csv', index_col='Id')\n",
    "df.head()"
   ]
  },
  {
   "cell_type": "code",
   "execution_count": 16,
   "metadata": {},
   "outputs": [
    {
     "data": {
      "text/plain": [
       "id\n",
       "0      11\n",
       "1      11\n",
       "379    11\n",
       "41      2\n",
       "810    16\n",
       "Name: modularity_class, dtype: int64"
      ]
     },
     "execution_count": 16,
     "metadata": {},
     "output_type": "execute_result"
    }
   ],
   "source": [
    "# Extract modularity classes (communities)\n",
    "communities = df['modularity_class']\n",
    "communities.head()"
   ]
  },
  {
   "cell_type": "code",
   "execution_count": 21,
   "metadata": {},
   "outputs": [
    {
     "data": {
      "text/plain": [
       "11    5757\n",
       "8     5358\n",
       "7     4408\n",
       "16    2951\n",
       "10    2334\n",
       "Name: modularity_class, dtype: int64"
      ]
     },
     "execution_count": 21,
     "metadata": {},
     "output_type": "execute_result"
    }
   ],
   "source": [
    "# Sort by most common modularity classes\n",
    "communities = communities.sort_values(key=lambda x: x.map(x.value_counts()), ascending=False)\n",
    "\n",
    "# Top 5 largest communities\n",
    "communities.value_counts().head()"
   ]
  },
  {
   "cell_type": "code",
   "execution_count": 22,
   "metadata": {},
   "outputs": [],
   "source": [
    "# Export communities to csv\n",
    "communities.to_csv('data/task1/communities.csv')"
   ]
  }
 ],
 "metadata": {
  "kernelspec": {
   "display_name": "DMSN",
   "language": "python",
   "name": "python3"
  },
  "language_info": {
   "codemirror_mode": {
    "name": "ipython",
    "version": 3
   },
   "file_extension": ".py",
   "mimetype": "text/x-python",
   "name": "python",
   "nbconvert_exporter": "python",
   "pygments_lexer": "ipython3",
   "version": "3.10.9"
  },
  "orig_nbformat": 4,
  "vscode": {
   "interpreter": {
    "hash": "1473d0af85b21d6127b20ead716b8efacd2edad6341be74c0fb3950ce92887e0"
   }
  }
 },
 "nbformat": 4,
 "nbformat_minor": 2
}
